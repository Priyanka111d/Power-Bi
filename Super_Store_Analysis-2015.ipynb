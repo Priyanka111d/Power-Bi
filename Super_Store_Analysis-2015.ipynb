{
 "cells": [
  {
   "cell_type": "markdown",
   "id": "db2b1063",
   "metadata": {},
   "source": [
    "Super Store US Data Analysis"
   ]
  },
  {
   "cell_type": "code",
   "execution_count": 3,
   "id": "b7749167",
   "metadata": {},
   "outputs": [],
   "source": [
    "import pandas as pd\n",
    "import numpy as np\n",
    "import matplotlib.pyplot as plt\n",
    "import seaborn as sns\n",
    "import plotly.express as px\n",
    "import plotly.graph_objects as go\n",
    "from datetime import datetime"
   ]
  },
  {
   "cell_type": "code",
   "execution_count": 4,
   "id": "c5a81088",
   "metadata": {},
   "outputs": [],
   "source": [
    "df = pd.read_csv('Super_Store_US-2015.csv')"
   ]
  },
  {
   "cell_type": "code",
   "execution_count": 36,
   "id": "e5472629",
   "metadata": {},
   "outputs": [
    {
     "name": "stdout",
     "output_type": "stream",
     "text": [
      "   Row ID Order Priority  Discount  Unit Price  Shipping Cost  Customer ID  \\\n",
      "0   20847           High      0.01        2.84           0.93            3   \n",
      "1   20228  Not Specified      0.02      500.98          26.00            5   \n",
      "2   21776       Critical      0.06        9.48           7.29           11   \n",
      "3   24844         Medium      0.09       78.69          19.99           14   \n",
      "4   24846         Medium      0.08        3.28           2.31           14   \n",
      "\n",
      "       Customer Name       Ship Mode Customer Segment Product Category  ...  \\\n",
      "0      Bonnie Potter     Express Air        Corporate  Office Supplies  ...   \n",
      "1     Ronnie Proctor  Delivery Truck      Home Office        Furniture  ...   \n",
      "2      Marcus Dunlap     Regular Air      Home Office        Furniture  ...   \n",
      "3  Gwendolyn F Tyson     Regular Air   Small Business        Furniture  ...   \n",
      "4  Gwendolyn F Tyson     Regular Air   Small Business  Office Supplies  ...   \n",
      "\n",
      "    Region State or Province         City  Postal Code Order Date  Ship Date  \\\n",
      "0     West        Washington    Anacortes        98221   1/7/2015   1/8/2015   \n",
      "1     West        California  San Gabriel        91776  6/13/2015  6/15/2015   \n",
      "2     East        New Jersey      Roselle         7203  2/15/2015  2/17/2015   \n",
      "3  Central         Minnesota   Prior Lake        55372  5/12/2015  5/14/2015   \n",
      "4  Central         Minnesota   Prior Lake        55372  5/12/2015  5/13/2015   \n",
      "\n",
      "      Profit Quantity ordered new    Sales Order ID  \n",
      "0     4.5600                    4    13.01    88522  \n",
      "1  4390.3665                   12  6362.85    90193  \n",
      "2   -53.8096                   22   211.15    90192  \n",
      "3   803.4705                   16  1164.45    86838  \n",
      "4   -24.0300                    7    22.23    86838  \n",
      "\n",
      "[5 rows x 25 columns]\n"
     ]
    }
   ],
   "source": [
    "print (df.head())"
   ]
  },
  {
   "cell_type": "code",
   "execution_count": 37,
   "id": "889055b6",
   "metadata": {},
   "outputs": [
    {
     "name": "stdout",
     "output_type": "stream",
     "text": [
      "      Row ID Order Priority  Discount  Unit Price  Shipping Cost  Customer ID  \\\n",
      "1947   19842           High      0.01       10.90           7.46         3397   \n",
      "1948   19843           High      0.10        7.99           5.03         3397   \n",
      "1949   26208  Not Specified      0.08       11.97           5.81         3399   \n",
      "1950   24911         Medium      0.10        9.38           4.93         3400   \n",
      "1951   25914           High      0.10      105.98          13.99         3403   \n",
      "\n",
      "      Customer Name    Ship Mode Customer Segment Product Category  ...  \\\n",
      "1947    Andrea Shaw  Regular Air   Small Business  Office Supplies  ...   \n",
      "1948    Andrea Shaw  Regular Air   Small Business       Technology  ...   \n",
      "1949    Marvin Reid  Regular Air   Small Business  Office Supplies  ...   \n",
      "1950  Florence Gold  Express Air   Small Business        Furniture  ...   \n",
      "1951  Tammy Buckley  Express Air         Consumer        Furniture  ...   \n",
      "\n",
      "       Region State or Province         City  Postal Code Order Date  \\\n",
      "1947  Central          Illinois     Danville        61832  3/11/2015   \n",
      "1948  Central          Illinois     Danville        61832  3/11/2015   \n",
      "1949  Central          Illinois  Des Plaines        60016  3/29/2015   \n",
      "1950     East     West Virginia     Fairmont        26554   4/4/2015   \n",
      "1951     West           Wyoming     Cheyenne        82001   2/8/2015   \n",
      "\n",
      "      Ship Date    Profit Quantity ordered new   Sales Order ID  \n",
      "1947  3/12/2015 -116.7600                   18  207.31    87536  \n",
      "1948  3/12/2015 -160.9520                   22  143.12    87536  \n",
      "1949  3/31/2015  -41.8700                    5   59.98    87534  \n",
      "1950   4/4/2015  -24.7104                   15  135.78    87537  \n",
      "1951  2/11/2015  349.4850                    5  506.50    87530  \n",
      "\n",
      "[5 rows x 25 columns]\n"
     ]
    }
   ],
   "source": [
    "print(df.tail())"
   ]
  },
  {
   "cell_type": "markdown",
   "id": "08a2c196",
   "metadata": {},
   "source": [
    "print(df.corr()) will work only when everything in the data is integer if it also includes object means it can not make co-relation between them"
   ]
  },
  {
   "cell_type": "code",
   "execution_count": 38,
   "id": "db3c4ebb",
   "metadata": {},
   "outputs": [
    {
     "name": "stdout",
     "output_type": "stream",
     "text": [
      "<class 'pandas.core.frame.DataFrame'>\n",
      "RangeIndex: 1952 entries, 0 to 1951\n",
      "Data columns (total 25 columns):\n",
      " #   Column                Non-Null Count  Dtype  \n",
      "---  ------                --------------  -----  \n",
      " 0   Row ID                1952 non-null   int64  \n",
      " 1   Order Priority        1952 non-null   object \n",
      " 2   Discount              1952 non-null   float64\n",
      " 3   Unit Price            1952 non-null   float64\n",
      " 4   Shipping Cost         1952 non-null   float64\n",
      " 5   Customer ID           1952 non-null   int64  \n",
      " 6   Customer Name         1952 non-null   object \n",
      " 7   Ship Mode             1952 non-null   object \n",
      " 8   Customer Segment      1952 non-null   object \n",
      " 9   Product Category      1952 non-null   object \n",
      " 10  Product Sub-Category  1952 non-null   object \n",
      " 11  Product Container     1952 non-null   object \n",
      " 12  Product Name          1952 non-null   object \n",
      " 13  Product Base Margin   1936 non-null   float64\n",
      " 14  Country               1952 non-null   object \n",
      " 15  Region                1952 non-null   object \n",
      " 16  State or Province     1952 non-null   object \n",
      " 17  City                  1952 non-null   object \n",
      " 18  Postal Code           1952 non-null   int64  \n",
      " 19  Order Date            1952 non-null   object \n",
      " 20  Ship Date             1952 non-null   object \n",
      " 21  Profit                1952 non-null   float64\n",
      " 22  Quantity ordered new  1952 non-null   int64  \n",
      " 23  Sales                 1952 non-null   float64\n",
      " 24  Order ID              1952 non-null   int64  \n",
      "dtypes: float64(6), int64(5), object(14)\n",
      "memory usage: 381.4+ KB\n",
      "None\n"
     ]
    }
   ],
   "source": [
    "print(df.info())"
   ]
  },
  {
   "cell_type": "code",
   "execution_count": 39,
   "id": "8155cae6",
   "metadata": {},
   "outputs": [
    {
     "name": "stdout",
     "output_type": "stream",
     "text": [
      "Row ID                   0\n",
      "Order Priority           0\n",
      "Discount                 0\n",
      "Unit Price               0\n",
      "Shipping Cost            0\n",
      "Customer ID              0\n",
      "Customer Name            0\n",
      "Ship Mode                0\n",
      "Customer Segment         0\n",
      "Product Category         0\n",
      "Product Sub-Category     0\n",
      "Product Container        0\n",
      "Product Name             0\n",
      "Product Base Margin     16\n",
      "Country                  0\n",
      "Region                   0\n",
      "State or Province        0\n",
      "City                     0\n",
      "Postal Code              0\n",
      "Order Date               0\n",
      "Ship Date                0\n",
      "Profit                   0\n",
      "Quantity ordered new     0\n",
      "Sales                    0\n",
      "Order ID                 0\n",
      "dtype: int64\n"
     ]
    }
   ],
   "source": [
    "#to find toal null values or blank values of each column in the excel sheet\n",
    "print(df.isnull().sum())"
   ]
  },
  {
   "cell_type": "code",
   "execution_count": 40,
   "id": "f4a442b8",
   "metadata": {},
   "outputs": [
    {
     "data": {
      "text/plain": [
       "count    1936.000000\n",
       "mean        0.515186\n",
       "std         0.137055\n",
       "min         0.350000\n",
       "25%         0.380000\n",
       "50%         0.525000\n",
       "75%         0.590000\n",
       "max         0.850000\n",
       "Name: Product Base Margin, dtype: float64"
      ]
     },
     "execution_count": 40,
     "metadata": {},
     "output_type": "execute_result"
    }
   ],
   "source": [
    "df['Product Base Margin'].describe()"
   ]
  },
  {
   "cell_type": "code",
   "execution_count": 41,
   "id": "34e35131",
   "metadata": {},
   "outputs": [
    {
     "name": "stdout",
     "output_type": "stream",
     "text": [
      "Requirement already satisfied: scikit-learn in c:\\users\\lenovo\\anaconda3\\lib\\site-packages (1.2.2)\n",
      "Requirement already satisfied: numpy>=1.17.3 in c:\\users\\lenovo\\anaconda3\\lib\\site-packages (from scikit-learn) (1.26.4)\n",
      "Requirement already satisfied: scipy>=1.3.2 in c:\\users\\lenovo\\anaconda3\\lib\\site-packages (from scikit-learn) (1.11.4)\n",
      "Requirement already satisfied: joblib>=1.1.1 in c:\\users\\lenovo\\anaconda3\\lib\\site-packages (from scikit-learn) (1.2.0)\n",
      "Requirement already satisfied: threadpoolctl>=2.0.0 in c:\\users\\lenovo\\anaconda3\\lib\\site-packages (from scikit-learn) (2.2.0)\n",
      "Note: you may need to restart the kernel to use updated packages.\n"
     ]
    }
   ],
   "source": [
    "pip install scikit-learn"
   ]
  },
  {
   "cell_type": "code",
   "execution_count": 42,
   "id": "eabb5998",
   "metadata": {},
   "outputs": [
    {
     "data": {
      "text/plain": [
       "Product Base Margin\n",
       "0.37    174\n",
       "0.38    142\n",
       "0.36    140\n",
       "0.59    132\n",
       "0.39    122\n",
       "0.56    105\n",
       "0.40     94\n",
       "0.57     91\n",
       "0.58     82\n",
       "0.55     78\n",
       "0.60     69\n",
       "0.35     62\n",
       "0.52     38\n",
       "0.74     28\n",
       "0.62     25\n",
       "0.41     25\n",
       "0.83     25\n",
       "0.43     24\n",
       "0.64     24\n",
       "0.46     22\n",
       "0.48     21\n",
       "0.44     21\n",
       "0.79     21\n",
       "0.77     20\n",
       "0.78     20\n",
       "0.42     19\n",
       "0.68     19\n",
       "0.54     18\n",
       "0.66     18\n",
       "0.81     18\n",
       "0.75     17\n",
       "0.65     17\n",
       "0.49     17\n",
       "0.50     15\n",
       "0.76     15\n",
       "0.61     14\n",
       "0.69     13\n",
       "0.80     12\n",
       "0.53     12\n",
       "0.71     12\n",
       "0.51     12\n",
       "0.63     11\n",
       "0.73     11\n",
       "0.45     11\n",
       "0.82      9\n",
       "0.47      9\n",
       "0.72      8\n",
       "0.67      7\n",
       "0.84      6\n",
       "0.70      6\n",
       "0.85      5\n",
       "Name: count, dtype: int64"
      ]
     },
     "execution_count": 42,
     "metadata": {},
     "output_type": "execute_result"
    }
   ],
   "source": [
    "df['Product Base Margin'].value_counts()"
   ]
  },
  {
   "cell_type": "code",
   "execution_count": 43,
   "id": "7aab22ca",
   "metadata": {},
   "outputs": [],
   "source": [
    "#converting string to numeric value with the help of scikit-learn library using LabelEncoder function\n",
    "from sklearn.preprocessing import LabelEncoder\n",
    "le=LabelEncoder()\n",
    "df['Product Base Margin']=le.fit_transform(df['Product Base Margin'])"
   ]
  },
  {
   "cell_type": "code",
   "execution_count": 5,
   "id": "10efab58",
   "metadata": {},
   "outputs": [
    {
     "data": {
      "text/plain": [
       "(1952, 25)"
      ]
     },
     "execution_count": 5,
     "metadata": {},
     "output_type": "execute_result"
    }
   ],
   "source": [
    "df.shape"
   ]
  },
  {
   "cell_type": "code",
   "execution_count": 46,
   "id": "9c00eaa3",
   "metadata": {},
   "outputs": [],
   "source": [
    "# filling null values for column Product Base Margin\n",
    "from sklearn.impute import SimpleImputer\n",
    "imputer = SimpleImputer(strategy='most_frequent')\n",
    "df.pbm = imputer.fit_transform(df['Product Base Margin'].values.reshape(-1,1))"
   ]
  },
  {
   "cell_type": "code",
   "execution_count": 47,
   "id": "b6244b77",
   "metadata": {},
   "outputs": [
    {
     "name": "stdout",
     "output_type": "stream",
     "text": [
      "      Row ID Order Priority  Discount  Unit Price  Shipping Cost  Customer ID  \\\n",
      "0      20847           High      0.01        2.84           0.93            3   \n",
      "1      20228  Not Specified      0.02      500.98          26.00            5   \n",
      "2      21776       Critical      0.06        9.48           7.29           11   \n",
      "3      24844         Medium      0.09       78.69          19.99           14   \n",
      "4      24846         Medium      0.08        3.28           2.31           14   \n",
      "...      ...            ...       ...         ...            ...          ...   \n",
      "1947   19842           High      0.01       10.90           7.46         3397   \n",
      "1948   19843           High      0.10        7.99           5.03         3397   \n",
      "1949   26208  Not Specified      0.08       11.97           5.81         3399   \n",
      "1950   24911         Medium      0.10        9.38           4.93         3400   \n",
      "1951   25914           High      0.10      105.98          13.99         3403   \n",
      "\n",
      "          Customer Name       Ship Mode Customer Segment Product Category  \\\n",
      "0         Bonnie Potter     Express Air        Corporate  Office Supplies   \n",
      "1        Ronnie Proctor  Delivery Truck      Home Office        Furniture   \n",
      "2         Marcus Dunlap     Regular Air      Home Office        Furniture   \n",
      "3     Gwendolyn F Tyson     Regular Air   Small Business        Furniture   \n",
      "4     Gwendolyn F Tyson     Regular Air   Small Business  Office Supplies   \n",
      "...                 ...             ...              ...              ...   \n",
      "1947        Andrea Shaw     Regular Air   Small Business  Office Supplies   \n",
      "1948        Andrea Shaw     Regular Air   Small Business       Technology   \n",
      "1949        Marvin Reid     Regular Air   Small Business  Office Supplies   \n",
      "1950      Florence Gold     Express Air   Small Business        Furniture   \n",
      "1951      Tammy Buckley     Express Air         Consumer        Furniture   \n",
      "\n",
      "      ...   Region State or Province         City  Postal Code Order Date  \\\n",
      "0     ...     West        Washington    Anacortes        98221   1/7/2015   \n",
      "1     ...     West        California  San Gabriel        91776  6/13/2015   \n",
      "2     ...     East        New Jersey      Roselle         7203  2/15/2015   \n",
      "3     ...  Central         Minnesota   Prior Lake        55372  5/12/2015   \n",
      "4     ...  Central         Minnesota   Prior Lake        55372  5/12/2015   \n",
      "...   ...      ...               ...          ...          ...        ...   \n",
      "1947  ...  Central          Illinois     Danville        61832  3/11/2015   \n",
      "1948  ...  Central          Illinois     Danville        61832  3/11/2015   \n",
      "1949  ...  Central          Illinois  Des Plaines        60016  3/29/2015   \n",
      "1950  ...     East     West Virginia     Fairmont        26554   4/4/2015   \n",
      "1951  ...     West           Wyoming     Cheyenne        82001   2/8/2015   \n",
      "\n",
      "      Ship Date     Profit Quantity ordered new    Sales Order ID  \n",
      "0      1/8/2015     4.5600                    4    13.01    88522  \n",
      "1     6/15/2015  4390.3665                   12  6362.85    90193  \n",
      "2     2/17/2015   -53.8096                   22   211.15    90192  \n",
      "3     5/14/2015   803.4705                   16  1164.45    86838  \n",
      "4     5/13/2015   -24.0300                    7    22.23    86838  \n",
      "...         ...        ...                  ...      ...      ...  \n",
      "1947  3/12/2015  -116.7600                   18   207.31    87536  \n",
      "1948  3/12/2015  -160.9520                   22   143.12    87536  \n",
      "1949  3/31/2015   -41.8700                    5    59.98    87534  \n",
      "1950   4/4/2015   -24.7104                   15   135.78    87537  \n",
      "1951  2/11/2015   349.4850                    5   506.50    87530  \n",
      "\n",
      "[1952 rows x 25 columns]\n"
     ]
    }
   ],
   "source": [
    "print(df)"
   ]
  },
  {
   "cell_type": "code",
   "execution_count": 7,
   "id": "f8827ff5",
   "metadata": {},
   "outputs": [
    {
     "data": {
      "text/plain": [
       "Product Base Margin\n",
       "0.37    174\n",
       "0.38    142\n",
       "0.36    140\n",
       "0.59    132\n",
       "0.39    122\n",
       "0.56    105\n",
       "0.40     94\n",
       "0.57     91\n",
       "0.58     82\n",
       "0.55     78\n",
       "0.60     69\n",
       "0.35     62\n",
       "0.52     38\n",
       "0.74     28\n",
       "0.62     25\n",
       "0.41     25\n",
       "0.83     25\n",
       "0.43     24\n",
       "0.64     24\n",
       "0.46     22\n",
       "0.48     21\n",
       "0.44     21\n",
       "0.79     21\n",
       "0.77     20\n",
       "0.78     20\n",
       "0.42     19\n",
       "0.68     19\n",
       "0.54     18\n",
       "0.66     18\n",
       "0.81     18\n",
       "0.75     17\n",
       "0.65     17\n",
       "0.49     17\n",
       "0.50     15\n",
       "0.76     15\n",
       "0.61     14\n",
       "0.69     13\n",
       "0.80     12\n",
       "0.53     12\n",
       "0.71     12\n",
       "0.51     12\n",
       "0.63     11\n",
       "0.73     11\n",
       "0.45     11\n",
       "0.82      9\n",
       "0.47      9\n",
       "0.72      8\n",
       "0.67      7\n",
       "0.84      6\n",
       "0.70      6\n",
       "0.85      5\n",
       "Name: count, dtype: int64"
      ]
     },
     "execution_count": 7,
     "metadata": {},
     "output_type": "execute_result"
    }
   ],
   "source": [
    "df['Product Base Margin'].value_counts()  # print(df.median())"
   ]
  },
  {
   "cell_type": "code",
   "execution_count": 6,
   "id": "babb8264",
   "metadata": {},
   "outputs": [
    {
     "data": {
      "text/plain": [
       "Row ID                    int64\n",
       "Order Priority           object\n",
       "Discount                float64\n",
       "Unit Price              float64\n",
       "Shipping Cost           float64\n",
       "Customer ID               int64\n",
       "Customer Name            object\n",
       "Ship Mode                object\n",
       "Customer Segment         object\n",
       "Product Category         object\n",
       "Product Sub-Category     object\n",
       "Product Container        object\n",
       "Product Name             object\n",
       "Product Base Margin     float64\n",
       "Country                  object\n",
       "Region                   object\n",
       "State or Province        object\n",
       "City                     object\n",
       "Postal Code               int64\n",
       "Order Date               object\n",
       "Ship Date                object\n",
       "Profit                  float64\n",
       "Quantity ordered new      int64\n",
       "Sales                   float64\n",
       "Order ID                  int64\n",
       "dtype: object"
      ]
     },
     "execution_count": 6,
     "metadata": {},
     "output_type": "execute_result"
    }
   ],
   "source": [
    "df.dtypes"
   ]
  },
  {
   "cell_type": "code",
   "execution_count": 48,
   "id": "db862bfb",
   "metadata": {},
   "outputs": [
    {
     "name": "stdout",
     "output_type": "stream",
     "text": [
      "Row ID                  0\n",
      "Order Priority          0\n",
      "Discount                0\n",
      "Unit Price              0\n",
      "Shipping Cost           0\n",
      "Customer ID             0\n",
      "Customer Name           0\n",
      "Ship Mode               0\n",
      "Customer Segment        0\n",
      "Product Category        0\n",
      "Product Sub-Category    0\n",
      "Product Container       0\n",
      "Product Name            0\n",
      "Product Base Margin     0\n",
      "Country                 0\n",
      "Region                  0\n",
      "State or Province       0\n",
      "City                    0\n",
      "Postal Code             0\n",
      "Order Date              0\n",
      "Ship Date               0\n",
      "Profit                  0\n",
      "Quantity ordered new    0\n",
      "Sales                   0\n",
      "Order ID                0\n",
      "dtype: int64\n"
     ]
    }
   ],
   "source": [
    "print(df.isnull().sum())"
   ]
  },
  {
   "cell_type": "code",
   "execution_count": 49,
   "id": "dcd5b1bd",
   "metadata": {},
   "outputs": [],
   "source": [
    "df = pd.DataFrame(df,columns=['Row ID','Order Priority','Discount','Unit Price','Shipping Cost','Customer ID','Customer Name',\n",
    "                              'Ship Mode','Customer Segment','Product Category','Product Sub-Category','Product Container',\n",
    "                             'Product Name','Product Base Margin','Country','Region','State or Province','City','Postal Code',\n",
    "                             'Order Date','Ship Date','Profit','Quantity ordered new','Sales','Order ID']).to_csv('Super_Store_Data_Analysis-2015.csv')"
   ]
  },
  {
   "cell_type": "code",
   "execution_count": null,
   "id": "ae5bbd48",
   "metadata": {},
   "outputs": [],
   "source": []
  }
 ],
 "metadata": {
  "kernelspec": {
   "display_name": "Python 3 (ipykernel)",
   "language": "python",
   "name": "python3"
  },
  "language_info": {
   "codemirror_mode": {
    "name": "ipython",
    "version": 3
   },
   "file_extension": ".py",
   "mimetype": "text/x-python",
   "name": "python",
   "nbconvert_exporter": "python",
   "pygments_lexer": "ipython3",
   "version": "3.11.7"
  }
 },
 "nbformat": 4,
 "nbformat_minor": 5
}
